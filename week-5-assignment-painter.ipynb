{
 "cells": [
  {
   "cell_type": "markdown",
   "metadata": {},
   "source": [
    "# Week 5 Assignment\n",
    "### Kaggle: I’m Something of a Painter Myself\n",
    "\n",
    "By: Austin Jenkins\n",
    "\n",
    "Class: CSCA 5642 - Introduction to Deep Learning\n",
    "\n",
    "Github Repository: TODO\n",
    "Kaggle Competition: https://www.kaggle.com/competitions/gan-getting-started/overview"
   ]
  }
 ],
 "metadata": {
  "language_info": {
   "name": "python"
  }
 },
 "nbformat": 4,
 "nbformat_minor": 2
}
